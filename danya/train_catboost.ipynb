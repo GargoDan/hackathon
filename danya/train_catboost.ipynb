{
 "cells": [
  {
   "cell_type": "code",
   "execution_count": 1,
   "metadata": {},
   "outputs": [
    {
     "name": "stdout",
     "output_type": "stream",
     "text": [
      "1.0.3\n"
     ]
    }
   ],
   "source": [
    "import pandas as pd\n",
    "from sklearn.metrics import mean_absolute_percentage_error\n",
    "from sklearn.metrics import mean_absolute_error\n",
    "import numpy as np\n",
    "import catboost\n",
    "from catboost import Pool, CatBoostRegressor\n",
    "print(catboost.__version__)"
   ]
  },
  {
   "cell_type": "code",
   "execution_count": 5,
   "metadata": {},
   "outputs": [],
   "source": [
    "df = pd.read_csv('data/data_to_boosting.csv')\n",
    "df.drop(columns=['Unnamed: 0'], inplace=True)"
   ]
  },
  {
   "cell_type": "code",
   "execution_count": 6,
   "metadata": {},
   "outputs": [
    {
     "data": {
      "text/plain": [
       "\"\\n'*num*w_2' ...  -> медианные значения за последние 3 месяца до *num* месяца (не включая)\\n\""
      ]
     },
     "execution_count": 6,
     "metadata": {},
     "output_type": "execute_result"
    }
   ],
   "source": [
    "'''\n",
    "'*num*w_2' ...  -> медианные значения за последние 3 месяца до *num* месяца (не включая)\n",
    "'''"
   ]
  },
  {
   "cell_type": "code",
   "execution_count": 7,
   "metadata": {},
   "outputs": [
    {
     "name": "stdout",
     "output_type": "stream",
     "text": [
      "Last train mounth: 9.0\n",
      "Last test mounth: 10.0\n",
      "Train features 48\n",
      "Test features 48\n"
     ]
    }
   ],
   "source": [
    "# Выборка фич для трейна на 9 и предикт 10\n",
    "col_to_train_X = ['prod_norm_name', 'prod_form_norm_name', 'code', 'prod_pack_1_2',\n",
    "                         'prod_pack_1_size', 'origin', 'ЖНВЛП', 'Ковид',\n",
    "                         '2.0', '3.0', '4.0', '5.0', '6.0', '7.0', '8.0', \n",
    "                         '2_conf', '3_conf', '4_conf', '5_conf', '6_conf', '7_conf',\n",
    "                         '8_conf', '2_covd', '3_covd', '4_covd',\n",
    "                         '5_covd', '6_covd', '7_covd', '8_covd', \n",
    "                         '2_covi', '3_covi', '4_covi', '5_covi', '6_covi', '7_covi', '8_covi',\n",
    "                         '2_caseF', '3_caseF', '4_caseF',\n",
    "                         '5_caseF', '6_caseF', '7_caseF', '8_caseF',\n",
    "                         '5.0w_1', '6.0w_2', '7.0w_3', '8.0w_4', '9.0w_5']\n",
    "\n",
    "col_to_train_Y = ['9.0']\n",
    "\n",
    "col_to_test_X = ['prod_norm_name', 'prod_form_norm_name', 'code', 'prod_pack_1_2',\n",
    "                  'prod_pack_1_size', 'origin', 'ЖНВЛП', 'Ковид',\n",
    "                  '3.0', '4.0', '5.0', '6.0', '7.0', '8.0', '9.0',\n",
    "                  '3_conf', '4_conf', '5_conf', '6_conf', '7_conf',\n",
    "                  '8_conf', '9_conf', '3_covd', '4_covd',\n",
    "                  '5_covd', '6_covd', '7_covd', '8_covd', '9_covd',  \n",
    "                  '3_covi', '4_covi', '5_covi', '6_covi', '7_covi', '8_covi',\n",
    "                  '9_covi', '3_caseF', '4_caseF',\n",
    "                  '5_caseF', '6_caseF', '7_caseF', '8_caseF', '9_caseF', \n",
    "                  '6.0w_2', '7.0w_3', '8.0w_4', '9.0w_5', '10.0w_6']\n",
    "\n",
    "col_to_test_Y = ['10.0']\n",
    "\n",
    "print(f'Last train mounth: {col_to_train_Y[-1]}')\n",
    "print(f'Last test mounth: {col_to_test_Y[-1]}')\n",
    "print('Train features', len(col_to_train_X))\n",
    "print('Test features', len(col_to_test_X))"
   ]
  },
  {
   "cell_type": "code",
   "execution_count": 8,
   "metadata": {},
   "outputs": [
    {
     "name": "stdout",
     "output_type": "stream",
     "text": [
      "Last train mounth: 8.0\n",
      "Last test mounth: 9.0\n",
      "Train features 48\n",
      "Test features 48\n"
     ]
    }
   ],
   "source": [
    "# Выборка фич для трейна на 8 и предикт 9\n",
    "col_to_train_X = ['prod_norm_name', 'prod_form_norm_name', 'code', 'prod_pack_1_2',\n",
    "                         'prod_pack_1_size', 'origin', 'ЖНВЛП', 'Ковид', \n",
    "                         '1.0', '2.0', '3.0', '4.0', '5.0', '6.0', '7.0',\n",
    "                         '1_conf', '2_conf', '3_conf', '4_conf', '5_conf', '6_conf', '7_conf',\n",
    "                         '1_covd', '2_covd', '3_covd', '4_covd',\n",
    "                         '5_covd', '6_covd', '7_covd', '1_covi',\n",
    "                         '2_covi', '3_covi', '4_covi', '5_covi', '6_covi', '7_covi',\n",
    "                         '1_caseF', '2_caseF', '3_caseF', '4_caseF',\n",
    "                         '5_caseF', '6_caseF', '7_caseF',\n",
    "                         '4.0w_0', '5.0w_1', '6.0w_2', '7.0w_3', '8.0w_4']\n",
    "\n",
    "col_to_train_Y = ['8.0']\n",
    "\n",
    "col_to_test_X = ['prod_norm_name', 'prod_form_norm_name', 'code', 'prod_pack_1_2',\n",
    "                  'prod_pack_1_size', 'origin', 'ЖНВЛП', 'Ковид', \n",
    "                  '2.0', '3.0', '4.0', '5.0', '6.0', '7.0', '8.0', \n",
    "                  '2_conf', '3_conf', '4_conf', '5_conf', '6_conf', '7_conf',\n",
    "                  '8_conf', '2_covd', '3_covd', '4_covd',\n",
    "                  '5_covd', '6_covd', '7_covd', '8_covd', \n",
    "                  '2_covi', '3_covi', '4_covi', '5_covi', '6_covi', '7_covi', '8_covi',\n",
    "                  '2_caseF', '3_caseF', '4_caseF',\n",
    "                  '5_caseF', '6_caseF', '7_caseF', '8_caseF',\n",
    "                  '5.0w_1', '6.0w_2', '7.0w_3', '8.0w_4', '9.0w_5']\n",
    "\n",
    "col_to_test_Y = ['9.0']\n",
    "\n",
    "print(f'Last train mounth: {col_to_train_Y[-1]}')\n",
    "print(f'Last test mounth: {col_to_test_Y[-1]}')\n",
    "print('Train features', len(col_to_train_X))\n",
    "print('Test features', len(col_to_test_X))"
   ]
  },
  {
   "cell_type": "code",
   "execution_count": 9,
   "metadata": {},
   "outputs": [
    {
     "name": "stdout",
     "output_type": "stream",
     "text": [
      "48\n"
     ]
    }
   ],
   "source": [
    "# 1_smt - первый с конца (самый старый месяц)\n",
    "feature_col_X = ['prod_norm_name', 'prod_form_norm_name', 'code', 'prod_pack_1_2',\n",
    "               'prod_pack_1_size', 'origin', 'ЖНВЛП', 'Ковид', \n",
    "               '1_mounth', '2_mounth', '3_mounth', '4_mounth', '5_mounth', '6_mounth', '7_mounth', \n",
    "               '1_conf', '2_conf', '3_conf', '4_conf', '5_conf', '6_conf', '7_conf',\n",
    "               '1_covd', '2_covd', '3_covd', '4_covd', '5_covd', '6_covd', '7_covd', \n",
    "               '1_covi', '2_covi', '3_covi', '4_covi', '5_covi', '6_covi', '7_covi',\n",
    "               '1_caseF', '2_caseF', '3_caseF','4_caseF', '5_caseF', '6_caseF', '7_caseF',\n",
    "               '1_w', '2_w', '3_w', '4_w', '5_w']\n",
    "               \n",
    "feature_col_Y = ['target']\n",
    "print(len(feature_col_X))"
   ]
  },
  {
   "cell_type": "code",
   "execution_count": 10,
   "metadata": {},
   "outputs": [],
   "source": [
    "mapping_name = pd.DataFrame(df.prod_form_norm_name.unique()).reset_index().set_index(0).to_dict()['index']"
   ]
  },
  {
   "cell_type": "code",
   "execution_count": 11,
   "metadata": {},
   "outputs": [],
   "source": [
    "df.prod_form_norm_name = df.prod_form_norm_name.map(mapping_name)"
   ]
  },
  {
   "cell_type": "code",
   "execution_count": 12,
   "metadata": {},
   "outputs": [],
   "source": [
    "# сейчас трейним на 8м и предиктим 9й\n",
    "train_X = df.loc[:, col_to_train_X]\n",
    "train_X.columns = feature_col_X\n",
    "train_Y = df.loc[:, col_to_train_Y]\n",
    "train_Y.columns = feature_col_Y\n",
    "test_X = df.loc[:, col_to_test_X]\n",
    "test_X.columns = feature_col_X\n",
    "test_Y = df.loc[:, col_to_test_Y]\n",
    "test_Y.columns = feature_col_Y"
   ]
  },
  {
   "cell_type": "code",
   "execution_count": 13,
   "metadata": {},
   "outputs": [],
   "source": [
    "# логарифмируем целевую переменную\n",
    "test_X.loc[:, ['1_mounth', '2_mounth', '3_mounth', '4_mounth', '5_mounth', '6_mounth', '7_mounth']] = (test_X.loc[:, ['1_mounth', '2_mounth', '3_mounth', '4_mounth', '5_mounth', '6_mounth', '7_mounth']] + 1).apply(np.log)\n",
    "train_X.loc[:, ['1_mounth', '2_mounth', '3_mounth', '4_mounth', '5_mounth', '6_mounth', '7_mounth']] = (test_X.loc[:, ['1_mounth', '2_mounth', '3_mounth', '4_mounth', '5_mounth', '6_mounth', '7_mounth']] + 1).apply(np.log)\n",
    "train_Y = (train_Y + 1).apply(np.log)\n",
    "test_Y = (test_Y + 1).apply(np.log)"
   ]
  },
  {
   "cell_type": "code",
   "execution_count": 14,
   "metadata": {},
   "outputs": [],
   "source": [
    "# приводим к нужному виду\n",
    "test_X['origin'] = test_X['origin'].astype(int)\n",
    "test_X['prod_pack_1_2'] = test_X['prod_pack_1_2'].astype(int)\n",
    "test_X['code'] = test_X['code'].astype(int)\n",
    "test_X['prod_norm_name'] = test_X['prod_norm_name'].astype(int)\n",
    "\n",
    "train_X['origin'] = train_X['origin'].astype(int)\n",
    "train_X['prod_pack_1_2'] = train_X['prod_pack_1_2'].astype(int)\n",
    "train_X['code'] = train_X['code'].astype(int)\n",
    "train_X['prod_norm_name'] = train_X['prod_norm_name'].astype(int)"
   ]
  },
  {
   "cell_type": "code",
   "execution_count": 15,
   "metadata": {},
   "outputs": [],
   "source": [
    "cat_features = ['prod_norm_name', 'code', 'prod_pack_1_2', \n",
    "                'origin', 'ЖНВЛП', 'Ковид', 'prod_form_norm_name']\n"
   ]
  },
  {
   "cell_type": "code",
   "execution_count": 32,
   "metadata": {},
   "outputs": [],
   "source": [
    "train_pool = Pool(\n",
    "    train_X, train_Y, \n",
    "    cat_features=cat_features,\n",
    ")\n",
    "\n",
    "validation_pool = Pool(\n",
    "    test_X, test_Y, \n",
    "    cat_features=cat_features,\n",
    ")"
   ]
  },
  {
   "cell_type": "code",
   "execution_count": 42,
   "metadata": {},
   "outputs": [
    {
     "name": "stdout",
     "output_type": "stream",
     "text": [
      "0:\tlearn: 1.6083980\ttest: 0.5632409\tbest: 0.5632409 (0)\ttotal: 13.5ms\tremaining: 2.69s\n",
      "50:\tlearn: 1.5379386\ttest: 0.4880806\tbest: 0.4880806 (50)\ttotal: 769ms\tremaining: 2.25s\n",
      "100:\tlearn: 1.4709752\ttest: 0.4165026\tbest: 0.4165026 (100)\ttotal: 1.56s\tremaining: 1.53s\n",
      "150:\tlearn: 1.4069714\ttest: 0.3624589\tbest: 0.3624589 (150)\ttotal: 2.36s\tremaining: 767ms\n",
      "199:\tlearn: 1.3472216\ttest: 0.3335525\tbest: 0.3335525 (199)\ttotal: 3.03s\tremaining: 0us\n",
      "bestTest = 0.3335524618\n",
      "bestIteration = 199\n"
     ]
    }
   ],
   "source": [
    "model = CatBoostRegressor(\n",
    "    iterations=200,\n",
    "    learning_rate=0.001,\n",
    "    depth=4,\n",
    "    task_type=\"GPU\",\n",
    "    random_seed=1\n",
    ")\n",
    "\n",
    "model.fit(\n",
    "    train_pool,\n",
    "    eval_set=validation_pool,\n",
    "    verbose=50\n",
    ");"
   ]
  },
  {
   "cell_type": "code",
   "execution_count": 43,
   "metadata": {},
   "outputs": [
    {
     "name": "stdout",
     "output_type": "stream",
     "text": [
      "MAE: 172.62896006903264\n",
      "MAPE: 0.3180373128320467\n"
     ]
    }
   ],
   "source": [
    "# 9 10\n",
    "prediction = model.predict(test_X)\n",
    "print('MAE:', mean_absolute_error(np.exp(prediction) - 1, test_Y.apply(np.exp) - 1))\n",
    "print('MAPE:',mean_absolute_percentage_error(np.exp(prediction) - 1, test_Y.apply(np.exp) - 1))"
   ]
  },
  {
   "cell_type": "code",
   "execution_count": 44,
   "metadata": {},
   "outputs": [],
   "source": [
    "# model.save_model('model_2.py', format='python')"
   ]
  },
  {
   "cell_type": "code",
   "execution_count": null,
   "metadata": {},
   "outputs": [],
   "source": []
  }
 ],
 "metadata": {
  "interpreter": {
   "hash": "2fccb30966a34eb4c203704ea4419f01615b8311d9095c0bab7b138fa2d01430"
  },
  "kernelspec": {
   "display_name": "Python 3.8.8 64-bit ('base': conda)",
   "language": "python",
   "name": "python3"
  },
  "language_info": {
   "codemirror_mode": {
    "name": "ipython",
    "version": 3
   },
   "file_extension": ".py",
   "mimetype": "text/x-python",
   "name": "python",
   "nbconvert_exporter": "python",
   "pygments_lexer": "ipython3",
   "version": "3.8.8"
  },
  "orig_nbformat": 4
 },
 "nbformat": 4,
 "nbformat_minor": 2
}
